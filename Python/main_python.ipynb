{
 "cells": [
  {
   "cell_type": "code",
   "execution_count": 6,
   "id": "e9543c8f",
   "metadata": {},
   "outputs": [
    {
     "name": "stdout",
     "output_type": "stream",
     "text": [
      "<class 'str'>\n",
      "<class 'int'>\n",
      "<class 'float'>\n",
      "<class 'bool'>\n",
      "<class 'list'>\n",
      "<class 'dict'>\n",
      "<class 'tuple'>\n"
     ]
    }
   ],
   "source": [
    "a =  \"string data\"\n",
    "b = 123\n",
    "c = 12.34\n",
    "d = True\n",
    "e = [1,2,3,4]\n",
    "f = {\"a\":1, \"b\":2}\n",
    "g = (1,2,3)\n",
    "print(type(a))\n",
    "print(type(b))\n",
    "print( type(c))\n",
    "print(type(d))\n",
    "print(type(e))\n",
    "print(type(f))\n",
    "print(type(g))\n"
   ]
  },
  {
   "cell_type": "code",
   "execution_count": 7,
   "id": "cd906e7f",
   "metadata": {},
   "outputs": [
    {
     "name": "stdout",
     "output_type": "stream",
     "text": [
      "30\n"
     ]
    }
   ],
   "source": [
    "# sum of two numbers\n",
    "num1 = 10\n",
    "num2 = 20\n",
    "print(num1 + num2)"
   ]
  },
  {
   "cell_type": "code",
   "execution_count": 8,
   "id": "86bddc66",
   "metadata": {},
   "outputs": [
    {
     "name": "stdout",
     "output_type": "stream",
     "text": [
      "340\n"
     ]
    }
   ],
   "source": [
    "num3 = num1 + 7\n",
    "print(num3*num2)"
   ]
  },
  {
   "cell_type": "code",
   "execution_count": 13,
   "id": "d96a99c2",
   "metadata": {},
   "outputs": [
    {
     "name": "stdout",
     "output_type": "stream",
     "text": [
      "who are you ?\n"
     ]
    }
   ],
   "source": [
    "name = input(\"enter your name:\")\n",
    "\n",
    "if name == \"reetesh\":\n",
    "    print(\"hello reetesh\")  \n",
    "\n",
    "else:\n",
    "\n",
    "    print(\"who are you ?\")    \n",
    "\n",
    "\n"
   ]
  },
  {
   "cell_type": "code",
   "execution_count": 19,
   "id": "5c801fbf",
   "metadata": {},
   "outputs": [
    {
     "name": "stdout",
     "output_type": "stream",
     "text": [
      "('even num list-> [2, 2, 4, 2, 4, 2, 2, 34]', 'odd num list ->[3, 3, 2235, 53]')\n"
     ]
    }
   ],
   "source": [
    "a = [2,2,3,4,3,2,4,2235,2,53,2,34]\n",
    "\n",
    "def even_num(lis):\n",
    "    b = []\n",
    "    c = []\n",
    "    for i in lis:\n",
    "        if i%2==0:\n",
    "            b.append(i)\n",
    "        else:\n",
    "            c.append(i)\n",
    "\n",
    "    return f\"even num list-> {b}\", f\"odd num list ->{c}\" \n",
    "\n",
    "print(even_num(list(a)))\n",
    "\n",
    "\n"
   ]
  },
  {
   "cell_type": "code",
   "execution_count": 15,
   "id": "9010e920",
   "metadata": {},
   "outputs": [
    {
     "name": "stdout",
     "output_type": "stream",
     "text": [
      "{'a': 3, 'b': 2, 'c': 3, 'd': 5, 'e': 3, 's': 2, 'f': 1, 'v': 1}\n"
     ]
    }
   ],
   "source": [
    "# using for loops\n",
    "\n",
    "name = \"abcdaeesdsdfvcabcdde\"\n",
    "\n",
    "\n",
    "\n",
    "di = {}\n",
    "for i,j in enumerate(name):\n",
    "    # print(i,j)\n",
    "    if j in di:\n",
    "        di[j] = di[j]+1\n",
    "    else:\n",
    "        di[j] =1   \n",
    "\n",
    "print(di)\n",
    "\n",
    "\n",
    "\n",
    "\n",
    "\n"
   ]
  },
  {
   "cell_type": "code",
   "execution_count": 16,
   "id": "130e9a61",
   "metadata": {},
   "outputs": [
    {
     "name": "stdout",
     "output_type": "stream",
     "text": [
      "be condifent\n",
      "be condifent\n"
     ]
    }
   ],
   "source": [
    "for i in range(1,3):\n",
    "    print(\"be condifent\")"
   ]
  },
  {
   "cell_type": "code",
   "execution_count": 29,
   "id": "b9fe9fe2",
   "metadata": {},
   "outputs": [],
   "source": [
    "with open(\"Python_plan.txt\", 'r') as f:\n",
    "    text = f.read()\n",
    "    f.close()\n"
   ]
  },
  {
   "cell_type": "code",
   "execution_count": 30,
   "id": "0ba2b2cb",
   "metadata": {},
   "outputs": [
    {
     "data": {
      "text/plain": [
       "'Duration: 28/09 → 30/09 — ~6 hrs/day\\nGoal: Revise Python from basics → advanced → production, plus NumPy/Pandas essentials for AI workflows. After these 3 days you’ll continue daily practice (1.5 hrs LeetCode + mini-projects).\\n\\nDay 1 — Python Basics & Core Syntax\\n\\nFocus (theory + practice):\\n\\nVariables, types, operators\\n\\nStrings (slicing, f-strings), formatting\\n\\nLists, tuples, sets, dicts, comprehensions\\n\\nControl flow: if/else, for, while, break/continue\\n\\nFunctions: arguments, *args, **kwargs\\n\\nModules & imports\\n\\nHands-on mini projects:\\n\\nTemperature converter CLI (C↔F)\\n\\nWord counter CLI (counts words, characters, top N words)\\n\\nDay 2 — Intermediate & Data Libraries (NumPy + Pandas)\\n\\nFocus (theory + practice):\\n\\nA. Advanced Python recap\\n\\nOOP basics (classes, __init__, __str__)\\n\\nDecorators, generators (yield), context managers (with)\\n\\nError handling (try/except), typing basics\\n\\nB. NumPy essentials (must-know)\\n\\nndarray, shapes, indexing, slicing\\n\\nBroadcasting & vectorized operations (no Python loops)\\n\\nnp.dot, np.matmul, np.linalg basics (norm, inverse)\\n\\nnp.random (seed, sampling)\\n\\nPerformance tip: avoid Python loops — use vectorization\\n\\nC. Pandas essentials (must-know)\\n\\nSeries & DataFrame basics: read_csv, head, info, describe\\n\\nIndexing & selection: .loc, .iloc\\n\\nMissing values: dropna, fillna\\n\\nGrouping & aggregation: groupby, agg\\n\\nJoins/merges: merge, concat\\n\\nDate/time handling: to_datetime, .dt accessors\\n\\nApply/map, vectorized ops vs apply performance tradeoffs\\n\\nQuick EDA plots (.plot() or matplotlib / seaborn)\\n\\nHands-on mini projects:\\n\\nBuild a small data cleaning pipeline: load CSV → clean missing values → basic feature engineering → save cleaned CSV.\\n\\nImplement a vectorized cosine similarity function with NumPy and use it to find top-k similar rows in a dataset (toy recommender).\\n\\nDay 3 — Python for APIs, Production & Testing (plus using Pandas/NumPy in APIs)\\n\\nFocus (theory + practice):\\n\\nFastAPI basics: endpoints, Pydantic models, request validation\\n\\nAsync endpoints (async def) and integration with I/O tasks\\n\\nWebSockets for streaming responses (FastAPI websockets)\\n\\nProject structure: modules, packages, __init__.py\\n\\nLogging (logging), simple pytest tests\\n\\nUsing NumPy/Pandas in production\\n\\nServe a model/data processing endpoint that uses Pandas to transform incoming CSV or JSON payloads.\\n\\nEnsure to convert Pandas results to JSON serializable types before returning (e.g., .to_dict()).\\n\\nHands-on mini projects:\\n\\nTo-Do REST API (CRUD) with FastAPI (persist to JSON / SQLite).\\n\\nAdd an endpoint that accepts a small CSV payload, runs your Day-2 cleaning pipeline (Pandas), then returns summary stats.\\n\\nImplement a WebSocket chat endpoint that streams simple messages (or streams tokenized outputs for a toy LLM simulator).\\n\\nAdd unit tests for API endpoints (pytest) and basic logging.'"
      ]
     },
     "execution_count": 30,
     "metadata": {},
     "output_type": "execute_result"
    }
   ],
   "source": [
    "text"
   ]
  },
  {
   "cell_type": "code",
   "execution_count": null,
   "id": "e62c77ed",
   "metadata": {},
   "outputs": [
    {
     "name": "stdout",
     "output_type": "stream",
     "text": [
      "15\n"
     ]
    }
   ],
   "source": [
    "# add two numbers prod ready\n",
    "\n",
    "x: int = 5\n",
    "y :int = 10\n",
    "def sum_2(a:int , b: int) ->int:\n",
    "    return a+b\n",
    "\n",
    "print(sum_2(x,y))"
   ]
  },
  {
   "cell_type": "code",
   "execution_count": 8,
   "id": "991d4096",
   "metadata": {},
   "outputs": [
    {
     "name": "stdout",
     "output_type": "stream",
     "text": [
      "27370\n"
     ]
    }
   ],
   "source": [
    "# multiple of 3 numbers\n",
    "\n",
    "a:int = int(input(\"enter a num1: \")) \n",
    "b :int = int(input(\"enter num2: \"))\n",
    "c :int = int(input(\"enter the num3\"))\n",
    "\n",
    "def mul_3(x:int,y:int,z:float)->int:\n",
    "    return x*y*z\n",
    "\n",
    "print(mul_3(a,b,c))"
   ]
  },
  {
   "cell_type": "code",
   "execution_count": 15,
   "id": "af406b15",
   "metadata": {},
   "outputs": [
    {
     "name": "stdout",
     "output_type": "stream",
     "text": [
      "my name is reetesh and age 24 i earn 1770000\n"
     ]
    }
   ],
   "source": [
    "a:str =\"reetesh\"\n",
    "b:int = 24\n",
    "c:int=1770000\n",
    "\n",
    "print(f\"my name is {a} and age {b} i earn {c}\")"
   ]
  },
  {
   "cell_type": "code",
   "execution_count": 17,
   "id": "aca64761",
   "metadata": {},
   "outputs": [
    {
     "name": "stdout",
     "output_type": "stream",
     "text": [
      "<class 'str'> <class 'int'> <class 'int'>\n"
     ]
    }
   ],
   "source": [
    "print(type(a), type(b), type(c))"
   ]
  },
  {
   "cell_type": "code",
   "execution_count": 20,
   "id": "d109f27f",
   "metadata": {},
   "outputs": [
    {
     "name": "stdout",
     "output_type": "stream",
     "text": [
      "<class 'str'>\n"
     ]
    }
   ],
   "source": [
    "a:int = 10\n",
    "b = str(a)\n",
    "print(type(b))\n"
   ]
  },
  {
   "cell_type": "code",
   "execution_count": 24,
   "id": "3a1b3fb1",
   "metadata": {},
   "outputs": [
    {
     "name": "stdout",
     "output_type": "stream",
     "text": [
      "('area is ', 5963, 'perimeter is ', 312)\n"
     ]
    }
   ],
   "source": [
    "# area and perimeter calculation of a rectangle\n",
    "\n",
    "# area = l*b\n",
    "# peri = 2(l+b)\n",
    "\n",
    "l:int = int(input(\"enter the leght of the rectangle: \"))\n",
    "w:int = int(input(\"enter the width of the rectangle: \"))\n",
    "\n",
    "\n",
    "def rect_cal(lentgh:int, width:int)->int:\n",
    "    area = lentgh*width\n",
    "    peri = 2*(lentgh+width)\n",
    "    return \"area is \",area, \"perimeter is \",peri\n",
    "\n",
    "print(rect_cal(l,w))\n",
    "\n"
   ]
  },
  {
   "cell_type": "code",
   "execution_count": 27,
   "id": "e28638ca",
   "metadata": {},
   "outputs": [
    {
     "name": "stdout",
     "output_type": "stream",
     "text": [
      "1080.0\n"
     ]
    }
   ],
   "source": [
    "pri:int = 1200\n",
    "dis:int  = 0.10\n",
    "offer =  pri*dis\n",
    "print(pri-offer)"
   ]
  },
  {
   "cell_type": "code",
   "execution_count": 29,
   "id": "b4f055b9",
   "metadata": {},
   "outputs": [
    {
     "name": "stdout",
     "output_type": "stream",
     "text": [
      "yes\n",
      "not divisible\n"
     ]
    }
   ],
   "source": [
    "n=27\n",
    "b=3\n",
    "c=2\n",
    "\n",
    "if n%b==0:\n",
    "    print(\"yes\")\n",
    "if n%c==0:\n",
    "    print(\"yes\")\n",
    "\n",
    "else:\n",
    "    print(\"not divisible\")        "
   ]
  },
  {
   "cell_type": "code",
   "execution_count": 30,
   "id": "427a483f",
   "metadata": {},
   "outputs": [
    {
     "name": "stdout",
     "output_type": "stream",
     "text": [
      "['apple', 'bannana', 'strawbeery', 'watermelon']\n",
      "['apple', 'bannana', 'strawbeery', 'watermelon', 'jackfruit']\n"
     ]
    }
   ],
   "source": [
    "a:list = [\"apple\", \"bannana\", \"strawbeery\", \"watermelon\"]\n",
    "print(a)\n",
    "a.append(\"jackfruit\")\n",
    "print(a)"
   ]
  },
  {
   "cell_type": "code",
   "execution_count": 33,
   "id": "3b97059c",
   "metadata": {},
   "outputs": [],
   "source": [
    "a = (\"reetesh\", 1234)\n",
    "# a[0] = \"riti\""
   ]
  },
  {
   "cell_type": "code",
   "execution_count": 36,
   "id": "c0d49c81",
   "metadata": {},
   "outputs": [
    {
     "name": "stdout",
     "output_type": "stream",
     "text": [
      "you can vote \n"
     ]
    }
   ],
   "source": [
    "age :int = int(input(\"enter your age: \"))\n",
    "if age>=18:\n",
    "    print(\"you can vote \")\n",
    "else:\n",
    "    print(\"you are not elegible for voting\")    "
   ]
  },
  {
   "cell_type": "code",
   "execution_count": 38,
   "id": "4fafe5b6",
   "metadata": {},
   "outputs": [
    {
     "name": "stdout",
     "output_type": "stream",
     "text": [
      "number is less then 50 or more then 100\n"
     ]
    }
   ],
   "source": [
    "num:int = int(input(\"enter any number: \"))\n",
    "if num>=50 and num<=100:\n",
    "    print(\"its between 50 and 100\")\n",
    "else:\n",
    "    print(\"number is less then 50 or more then 100\")    "
   ]
  },
  {
   "cell_type": "code",
   "execution_count": 40,
   "id": "aa9fcfb2",
   "metadata": {},
   "outputs": [
    {
     "name": "stdout",
     "output_type": "stream",
     "text": [
      "no\n"
     ]
    }
   ],
   "source": [
    "city = [\"blr\", \"bdvt\", \"smg\", \"tkr\", \"shir\"]\n",
    "if \"bl\" in city:\n",
    "    print(\"yes\")\n",
    "else:\n",
    "    print(\"no\")    "
   ]
  },
  {
   "cell_type": "code",
   "execution_count": 48,
   "id": "39a100f3",
   "metadata": {},
   "outputs": [
    {
     "name": "stdout",
     "output_type": "stream",
     "text": [
      "no\n"
     ]
    }
   ],
   "source": [
    "city = [\"blr\", \"bdvt\", \"smg\", \"tkr\", \"shir\"]\n",
    "citi =  [\"blr\", \"bdvt\", \"smg\", \"shir\", \"tkr\"]\n",
    "\n",
    "if city == citi:\n",
    "    print(\"yes\")\n",
    "\n",
    "else:\n",
    "    print(\"no\")    "
   ]
  },
  {
   "cell_type": "code",
   "execution_count": 50,
   "id": "23e435ab",
   "metadata": {},
   "outputs": [
    {
     "name": "stdout",
     "output_type": "stream",
     "text": [
      "['yes', 'yes', 'yes', 'yes', 'yes']\n"
     ]
    }
   ],
   "source": [
    "print([\"yes\"  for i in city if i in citi])"
   ]
  },
  {
   "cell_type": "code",
   "execution_count": 54,
   "id": "e1538eea",
   "metadata": {},
   "outputs": [
    {
     "name": "stdout",
     "output_type": "stream",
     "text": [
      "1575000\n",
      "('final annual salary', 1338750.0, 'monthly inhand salary', 111562.5, 'total tax paid', 236250.0, 'monthly tax paid', 19687.5)\n"
     ]
    }
   ],
   "source": [
    "sal:int = int(input(\"enter your annual salary: \"))\n",
    "std_ded:int = 75000\n",
    "tax_able:int = sal-std_ded\n",
    "print(tax_able)\n",
    "\n",
    "def slab_15(taxable:int)->int:\n",
    "    tax:float = 0.15\n",
    "    tax_paid = tax*taxable\n",
    "    final_sal =  taxable - tax_paid\n",
    "    mntly_sal = final_sal/12\n",
    "    mntly_tax = tax_paid/12\n",
    "\n",
    "    return \"final annual salary\", final_sal, \"monthly inhand salary\",mntly_sal, \"total tax paid\", tax_paid, \"monthly tax paid\",mntly_tax\n",
    "\n",
    "def slab_20(taxable:int)-> int:\n",
    "    tax:float=0.20\n",
    "    tax_paid = taxable*tax\n",
    "    final_sal = taxable-tax_paid\n",
    "    mntly_sal = final_sal/12\n",
    "    mntly_tax = tax_paid/12\n",
    "    \n",
    "    return \"final annual salary\", final_sal, \"monthly inhand salary\",mntly_sal, \"total tax paid\", tax_paid, \"monthly tax paid\",mntly_tax\n",
    "\n",
    "\n",
    "if tax_able>=1200000 and tax_able<1600000:\n",
    "    print(slab_15(tax_able))\n",
    "\n",
    "if tax_able>=1600000 and tax_able<2000000:\n",
    "    print(slab_20(tax_able))    \n",
    "\n",
    "\n",
    "\n"
   ]
  },
  {
   "cell_type": "code",
   "execution_count": 58,
   "id": "fc31eca7",
   "metadata": {},
   "outputs": [
    {
     "name": "stdout",
     "output_type": "stream",
     "text": [
      "{'name': 'reetesh v', 'age': 24, 'salary': 2000000}\n"
     ]
    }
   ],
   "source": [
    "empl = {'name':\"reetesh v\", 'age':24, 'salary':1770000}\n",
    "empl['salary']=2000000\n",
    "print(empl)"
   ]
  },
  {
   "cell_type": "code",
   "execution_count": null,
   "id": "eab1dc4d",
   "metadata": {},
   "outputs": [],
   "source": []
  }
 ],
 "metadata": {
  "kernelspec": {
   "display_name": "Python 3",
   "language": "python",
   "name": "python3"
  },
  "language_info": {
   "codemirror_mode": {
    "name": "ipython",
    "version": 3
   },
   "file_extension": ".py",
   "mimetype": "text/x-python",
   "name": "python",
   "nbconvert_exporter": "python",
   "pygments_lexer": "ipython3",
   "version": "3.10.8"
  }
 },
 "nbformat": 4,
 "nbformat_minor": 5
}
